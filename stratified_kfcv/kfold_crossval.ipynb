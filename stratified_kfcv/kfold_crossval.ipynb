{
 "cells": [
  {
   "cell_type": "markdown",
   "id": "de8d9775",
   "metadata": {},
   "source": [
    "# k-fold cross-validation"
   ]
  },
  {
   "cell_type": "markdown",
   "id": "89eb3707",
   "metadata": {},
   "source": [
    "## Imports and settings"
   ]
  },
  {
   "cell_type": "code",
   "execution_count": null,
   "id": "46e7579b",
   "metadata": {},
   "outputs": [],
   "source": [
    "import os\n",
    "import glob as gl\n",
    "import shutil as sh\n",
    "import numpy as np\n",
    "import pandas as pd\n",
    "import plotly.graph_objects as pg\n",
    "\n",
    "from os import path\n",
    "from sklearn.model_selection import KFold, StratifiedKFold"
   ]
  },
  {
   "cell_type": "code",
   "execution_count": null,
   "id": "81f7592b",
   "metadata": {},
   "outputs": [],
   "source": [
    "ROOT_DIR = 'root_dir'\n",
    "TRAIN_IMAGE_DIR = path.join(ROOT_DIR, './train/images/')\n",
    "TRAIN_LABEL_DIR = path.join(ROOT_DIR, './train/labels_thresh128/')\n",
    "CV_DIR = path.join(ROOT_DIR, 'scv_train')\n",
    "\n",
    "IMAGE_TYPE = 'png'\n",
    "LABEL_TYPE = 'png'\n",
    "\n",
    "FOLDS = 5\n",
    "\n",
    "!ls $ROOT_DIR"
   ]
  },
  {
   "cell_type": "markdown",
   "id": "468cec90",
   "metadata": {},
   "source": [
    "## Structure creation"
   ]
  },
  {
   "cell_type": "code",
   "execution_count": null,
   "id": "47a5db5e",
   "metadata": {},
   "outputs": [],
   "source": [
    "os.mkdir(CV_DIR)\n",
    "for i in range(FOLDS):\n",
    "    try:\n",
    "        fold = f'{i+1}'\n",
    "        print(f'Creating {fold} and sub-directories.')\n",
    "        os.makedirs(path.join(CV_DIR, fold, 'train', 'images'))\n",
    "        os.makedirs(path.join(CV_DIR, fold, 'train', 'labels'))\n",
    "        os.makedirs(path.join(CV_DIR, fold, 'val', 'images'))\n",
    "        os.makedirs(path.join(CV_DIR, fold, 'val', 'labels'))\n",
    "    except FileExistsError:\n",
    "        print('Structure already exists, clean up and run again.')"
   ]
  },
  {
   "cell_type": "markdown",
   "id": "f572fb8f",
   "metadata": {},
   "source": [
    "## Random folds\n",
    "URL: https://scikit-learn.org/stable/modules/generated/sklearn.model_selection.KFold.html#sklearn.model_selection.KFold"
   ]
  },
  {
   "cell_type": "code",
   "execution_count": null,
   "id": "9f925742",
   "metadata": {},
   "outputs": [],
   "source": [
    "# get sorted file paths, cut file names down to stems\n",
    "stems = sorted(gl.glob(os.path.join(TRAIN_IMAGE_DIR, '*.{}'.format(IMAGE_TYPE))))\n",
    "stems = np.array([x.split('/')[-1][0:-4] for x in stems])\n",
    "\n",
    "# generate k splits, shuffle with random state (reproducible)\n",
    "X = np.array(range(len(stems)))\n",
    "kf = KFold(n_splits=FOLDS, random_state=9001, shuffle=True)\n",
    "kf.get_n_splits(X)\n",
    "\n",
    "k = 1\n",
    "for train_index, val_index in kf.split(X):\n",
    "    train_stems, val_stems = stems[train_index], stems[val_index]\n",
    "    \n",
    "    # first n_samples % n_splits folds have size n_samples // n_splits + 1\n",
    "    # See: https://scikit-learn.org/stable/modules/generated/sklearn.model_selection.KFold.html\n",
    "    print(f'Fold {k}: Training {len(train_stems)}; Validation {len(val_stems)}')\n",
    "    \n",
    "    cv_fold_train_path = os.path.join(CV_DIR, f'{k}/train')\n",
    "    for ts in train_stems:\n",
    "        sh.copy(path.join(TRAIN_IMAGE_DIR, f'{ts}.{IMAGE_TYPE}'), path.join(cv_fold_train_path, 'images'))\n",
    "        sh.copy(path.join(TRAIN_LABEL_DIR, f'{ts}.{LABEL_TYPE}'), path.join(cv_fold_train_path, 'labels'))\n",
    "    \n",
    "    cv_fold_val_path = os.path.join(CV_DIR, f'{k}/val')\n",
    "    for vs in val_stems:\n",
    "        sh.copy(path.join(TRAIN_IMAGE_DIR, f'{vs}.{IMAGE_TYPE}'), path.join(cv_fold_val_path, 'images'))\n",
    "        sh.copy(path.join(TRAIN_LABEL_DIR, f'{vs}.{LABEL_TYPE}'), path.join(cv_fold_val_path, 'labels'))\n",
    "    \n",
    "    k += 1"
   ]
  },
  {
   "cell_type": "markdown",
   "id": "f9c9cc7c",
   "metadata": {},
   "source": [
    "## Stratified folds\n",
    "\n",
    "URL: https://scikit-learn.org/stable/modules/generated/sklearn.model_selection.StratifiedKFold.html\n",
    "TODOs:\n",
    "* Clean up and generalize for differing image/label formats\n",
    "* Work on stems, not full file names"
   ]
  },
  {
   "cell_type": "code",
   "execution_count": null,
   "id": "adaeb8b5",
   "metadata": {},
   "outputs": [],
   "source": [
    "# class labels file (file, class)\n",
    "PATH_CLASSES = 'path_to/clean128_classes_decile.csv'"
   ]
  },
  {
   "cell_type": "code",
   "execution_count": null,
   "id": "6b146f0a",
   "metadata": {},
   "outputs": [],
   "source": [
    "df = pd.read_csv(PATH_CLASSES)\n",
    "df['class'].value_counts()"
   ]
  },
  {
   "cell_type": "code",
   "execution_count": null,
   "id": "99a27f02",
   "metadata": {
    "scrolled": true
   },
   "outputs": [],
   "source": [
    "# apply splitting\n",
    "X, y = df['file'], df['class']\n",
    "skf = StratifiedKFold(n_splits=FOLDS, random_state=9001, shuffle=True)\n",
    "skf.get_n_splits(X, y)\n",
    "\n",
    "# process splits\n",
    "df_skf = pd.DataFrame(columns=['file', 'class', 'fold', 'set'])\n",
    "i = 1\n",
    "for train_index, val_index in skf.split(X, y):\n",
    "    X_train, X_val = X[train_index], X[val_index] # files\n",
    "    y_train, y_val = y[train_index], y[val_index] # classes\n",
    "    \n",
    "    # prepare fold dfs, extend overview df\n",
    "    df_t = pd.DataFrame(columns=['file', 'class', 'fold', 'set'])\n",
    "    df_t['file'], df_t['class'] = X_train, y_train\n",
    "    df_t['fold'], df_t['set'] = i, 'train'\n",
    "    \n",
    "    df_v = pd.DataFrame(columns=['file', 'class', 'fold', 'set'])\n",
    "    df_v['file'], df_v['class'] = X_val, y_val\n",
    "    df_v['fold'], df_v['set'] = i, 'val'    \n",
    "     \n",
    "    df_skf = pd.concat([df_skf, df_t, df_v])\n",
    "    \n",
    "    # get stems, copy files\n",
    "    stems_train = np.array([x[0:-4] for x in df_t['file']])\n",
    "    stems_val = np.array([x[0:-4] for x in df_v['file']])\n",
    "    print(f'fold {i}: train {len(stems_train)}; val {len(stems_val)}')    \n",
    "    \n",
    "    cv_fold_train_path = os.path.join(CV_DIR, f'{i}/train')\n",
    "    for st in stems_train:\n",
    "        sh.copy(path.join(TRAIN_IMAGE_DIR, f'{st}.{IMAGE_TYPE}'), path.join(cv_fold_train_path, 'images'))\n",
    "        sh.copy(path.join(TRAIN_LABEL_DIR, f'{st}.{LABEL_TYPE}'), path.join(cv_fold_train_path, 'labels'))\n",
    "    \n",
    "    cv_fold_val_path = os.path.join(CV_DIR, f'{i}/val')\n",
    "    for sv in stems_val:\n",
    "        sh.copy(path.join(TRAIN_IMAGE_DIR, f'{sv}.{IMAGE_TYPE}'), path.join(cv_fold_val_path, 'images'))\n",
    "        sh.copy(path.join(TRAIN_LABEL_DIR, f'{sv}.{LABEL_TYPE}'), path.join(cv_fold_val_path, 'labels'))\n",
    "    \n",
    "    i += 1\n",
    "\n",
    "# save overview\n",
    "df_skf.to_csv(path.join(CV_DIR, 'overview.csv') , index=False)\n",
    "df_skf"
   ]
  }
 ],
 "metadata": {
  "kernelspec": {
   "display_name": "Python 3 (ipykernel)",
   "language": "python",
   "name": "python3"
  },
  "language_info": {
   "codemirror_mode": {
    "name": "ipython",
    "version": 3
   },
   "file_extension": ".py",
   "mimetype": "text/x-python",
   "name": "python",
   "nbconvert_exporter": "python",
   "pygments_lexer": "ipython3",
   "version": "3.10.5"
  }
 },
 "nbformat": 4,
 "nbformat_minor": 5
}
