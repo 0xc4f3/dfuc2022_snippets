{
 "cells": [
  {
   "cell_type": "markdown",
   "id": "b0f04a67",
   "metadata": {},
   "source": [
    "# Duplicate fusion"
   ]
  },
  {
   "cell_type": "markdown",
   "id": "baacd50a",
   "metadata": {},
   "source": [
    "## Imports and settings"
   ]
  },
  {
   "cell_type": "code",
   "execution_count": null,
   "id": "18739a35",
   "metadata": {},
   "outputs": [],
   "source": [
    "import os\n",
    "import numpy as np\n",
    "import pandas as pd\n",
    "import cv2 as cv\n",
    "import PIL\n",
    "import matplotlib.pyplot as plt\n",
    "import shutil as sh\n",
    "import time\n",
    "    \n",
    "from os import path\n",
    "from glob import glob"
   ]
  },
  {
   "cell_type": "code",
   "execution_count": null,
   "id": "39324a15",
   "metadata": {},
   "outputs": [],
   "source": [
    "def visualize(**images):\n",
    "    n = len(images)\n",
    "    plt.figure(figsize=(16, 5))\n",
    "    for i, (name, image) in enumerate(images.items()):\n",
    "        plt.subplot(1, n, i+1)\n",
    "        plt.title(' '.join(name.split('_')).title())\n",
    "        plt.imshow(image)\n",
    "    plt.show()"
   ]
  },
  {
   "cell_type": "code",
   "execution_count": null,
   "id": "ec066f37",
   "metadata": {},
   "outputs": [],
   "source": [
    "PATH_IN_IMAGES = './in_images/'\n",
    "PATH_IN_LABELS = './in_labels/'\n",
    "\n",
    "PATH_OUT_IMAGES = './out_images/'\n",
    "PATH_OUT_LABELS = './out_labels/'\n",
    "PATH_OUT_MERGED = './out_merged/'\n",
    "\n",
    "PATH_DF = './duplicates.xlsx'"
   ]
  },
  {
   "cell_type": "code",
   "execution_count": null,
   "id": "acf73dfd",
   "metadata": {},
   "outputs": [],
   "source": [
    "df = pd.read_excel(PATH_DF, header=None)\n",
    "df"
   ]
  },
  {
   "cell_type": "markdown",
   "id": "8afcab8c",
   "metadata": {},
   "source": [
    "## Single sample check"
   ]
  },
  {
   "cell_type": "code",
   "execution_count": null,
   "id": "4c303a8e",
   "metadata": {},
   "outputs": [],
   "source": [
    "# get path of first duplicate pair in source \n",
    "f1 = path.join(PATH_IN_LABELS, df[0][19])\n",
    "f2 = path.join(PATH_IN_LABELS, df[1][19])\n",
    "print('file 1:', f1)\n",
    "print('file 2:', f2)\n",
    "\n",
    "# read as gray image\n",
    "mask_in1 = cv.imread(f1, cv.IMREAD_GRAYSCALE) \n",
    "mask_in2 = cv.imread(f2, cv.IMREAD_GRAYSCALE) \n",
    "\n",
    "# merge masks\n",
    "mask_out = np.logical_or(mask_in1, mask_in2).astype(np.uint8)\n",
    "\n",
    "# plot results\n",
    "visualize(mask_1=mask_in1, mask_2=mask_in2, mask_fusion=mask_out)"
   ]
  },
  {
   "cell_type": "markdown",
   "id": "0d466a04",
   "metadata": {},
   "source": [
    "## Bulk processing"
   ]
  },
  {
   "cell_type": "code",
   "execution_count": null,
   "id": "39d37e32",
   "metadata": {},
   "outputs": [],
   "source": [
    "for index, row in df.iterrows(): \n",
    "    print('files:', row[0], row[1])\n",
    "    \n",
    "    # get paths of duplicate pair\n",
    "    f1 = path.join(PATH_IN_LABELS, row[0])\n",
    "    f2 = path.join(PATH_IN_LABELS, row[1])\n",
    "\n",
    "    # read as gray image\n",
    "    mask_in1 = cv.imread(f1, cv.IMREAD_GRAYSCALE) \n",
    "    mask_in2 = cv.imread(f2, cv.IMREAD_GRAYSCALE) \n",
    "\n",
    "    # merge masks\n",
    "    mask_out = np.logical_or(mask_in1, mask_in2).astype(np.uint8)\n",
    "\n",
    "    # plot result\n",
    "    visualize(mask_1=mask_in1, mask_2=mask_in2, mask_fusion=mask_out)\n",
    "    \n",
    "    # save result\n",
    "    mask_out = PIL.Image.fromarray(mask_out)\n",
    "    mask_out.save(path.join(PATH_OUT_MERGED, path.basename(f1)))"
   ]
  },
  {
   "cell_type": "code",
   "execution_count": null,
   "id": "d85b7ac3",
   "metadata": {},
   "outputs": [],
   "source": [
    "# copying original images, removing right side duplicates\n",
    "sh.copytree(PATH_IN_IMAGES, PATH_OUT_IMAGES, symlinks=False)\n",
    "time.sleep(10) # wait for copying to finish, DIRTY! (but worky)\n",
    "[os.remove(path.join(PATH_OUT_IMAGES, row[1])) for _, row in df.iterrows()]"
   ]
  },
  {
   "cell_type": "code",
   "execution_count": null,
   "id": "07b723ff",
   "metadata": {},
   "outputs": [],
   "source": [
    "# copying original labels, removing right side duplicates, writing left side merged\n",
    "sh.copytree(PATH_IN_LABELS, PATH_OUT_LABELS, symlinks=False)\n",
    "time.sleep(10) # wait for copying to finish, DIRTY! (but worky)\n",
    "[os.remove(path.join(PATH_OUT_LABELS, row[1])) for _, row in df.iterrows()]\n",
    "[sh.copy(path.join(PATH_OUT_MERGED, row[0]), PATH_OUT_LABELS) for _, row in df.iterrows()]"
   ]
  }
 ],
 "metadata": {
  "kernelspec": {
   "display_name": "Python 3 (ipykernel)",
   "language": "python",
   "name": "python3"
  },
  "language_info": {
   "codemirror_mode": {
    "name": "ipython",
    "version": 3
   },
   "file_extension": ".py",
   "mimetype": "text/x-python",
   "name": "python",
   "nbconvert_exporter": "python",
   "pygments_lexer": "ipython3",
   "version": "3.10.5"
  }
 },
 "nbformat": 4,
 "nbformat_minor": 5
}
