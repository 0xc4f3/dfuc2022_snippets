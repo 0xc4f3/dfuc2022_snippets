{
 "cells": [
  {
   "cell_type": "markdown",
   "id": "fd4dfcd1",
   "metadata": {},
   "source": [
    "# Descriptive analysis"
   ]
  },
  {
   "cell_type": "markdown",
   "id": "18688ea5",
   "metadata": {},
   "source": [
    "## Imports and settings"
   ]
  },
  {
   "cell_type": "code",
   "execution_count": null,
   "id": "24e23139",
   "metadata": {},
   "outputs": [],
   "source": [
    "#!pip3 install plotly"
   ]
  },
  {
   "cell_type": "code",
   "execution_count": null,
   "id": "29d8353f",
   "metadata": {},
   "outputs": [],
   "source": [
    "import os\n",
    "import numpy as np\n",
    "import pandas as pd\n",
    "import cv2 as cv\n",
    "import PIL\n",
    "import matplotlib.pyplot as plt\n",
    "import plotly.express as px\n",
    "    \n",
    "from os import path\n",
    "from glob import glob"
   ]
  },
  {
   "cell_type": "code",
   "execution_count": null,
   "id": "057f8fad",
   "metadata": {},
   "outputs": [],
   "source": [
    "PATH_IN = './in/'\n",
    "PATH_OUT = './out/'"
   ]
  },
  {
   "cell_type": "code",
   "execution_count": null,
   "id": "e04d9d97",
   "metadata": {},
   "outputs": [],
   "source": [
    "!ls $PATH_IN"
   ]
  },
  {
   "cell_type": "markdown",
   "id": "cc00f82b",
   "metadata": {},
   "source": [
    "## Single sample check"
   ]
  },
  {
   "cell_type": "code",
   "execution_count": null,
   "id": "52a15e87",
   "metadata": {},
   "outputs": [],
   "source": [
    "# get path of first file in source \n",
    "f = sorted(glob(path.join(PATH_IN, \"*.png\")))[11]\n",
    "print('file:', f)\n",
    "\n",
    "# read as rgb image\n",
    "mask_in = cv.imread(f, cv.IMREAD_COLOR) \n",
    "mask_in = cv.cvtColor(mask_in, cv.COLOR_BGR2RGB)\n",
    "\n",
    "# set as binary mask\n",
    "gray = cv.cvtColor(mask_in, cv.COLOR_BGR2GRAY);\n",
    "mask = cv.inRange(gray, 1, 255);\n",
    "\n",
    "mask_out = mask_in.copy()\n",
    "\n",
    "# detect contours and analyze\n",
    "print('detected contours')\n",
    "contours, _ = cv.findContours(mask, cv.RETR_TREE, cv.CHAIN_APPROX_SIMPLE);\n",
    "for c in contours:\n",
    "    print('-' * 80)\n",
    "    \n",
    "    # area, arc length\n",
    "    area = np.int0(cv.contourArea(c))\n",
    "    arcl = cv.arcLength(c, True)\n",
    "    print('area:', area)\n",
    "    print('arc length:', arcl)\n",
    "    \n",
    "    # rectangle (bbox)\n",
    "    x, y, w, h = cv.boundingRect(c)    \n",
    "    bbox_min, bbox_max = min(w, h), max(w, h)\n",
    "    bbox_ratio = bbox_max / bbox_min\n",
    "    print('bbox short:', bbox_min)\n",
    "    print('bbox long:', bbox_max)\n",
    "    print('bbox ratio:', bbox_ratio)\n",
    "    cv.rectangle(mask_out, (x, y), (x + w, y + h), (0, 255, 0), 2)\n",
    "\n",
    "    # min area rotated rectangle (rbox)\n",
    "    # sloppy opencv definitions lead to slightly inconsistent results between boundingRect and minAreaRect\n",
    "    # https://stackoverflow.com/questions/69911364/whats-the-difference-in-results-of-cvboundingrect-and-cvminarearect\n",
    "    rect = cv.minAreaRect(c)\n",
    "    rbox = np.int0(cv.boxPoints(rect))\n",
    "    a, b = cv.norm(rbox[0], rbox[1]), cv.norm(rbox[1], rbox[2])\n",
    "    rbox_min, rbox_max = min(a, b), max(a, b)\n",
    "    rbox_ratio = rbox_max / rbox_min\n",
    "    print('rbox short:', rbox_min)\n",
    "    print('rbox long:', rbox_max)\n",
    "    print('rbox ratio:', rbox_ratio)\n",
    "    cv.drawContours(mask_out, [rbox], 0, (255, 0, 0), 2)\n",
    "    \n",
    "# plot results\n",
    "f, ax = plt.subplots(1,2)\n",
    "f.set_size_inches(16, 8)\n",
    "ax[0].imshow(mask)\n",
    "ax[1].imshow(mask_out)\n",
    "plt.show()"
   ]
  },
  {
   "cell_type": "markdown",
   "id": "9924bc70",
   "metadata": {},
   "source": [
    "## Bulk processing"
   ]
  },
  {
   "cell_type": "code",
   "execution_count": null,
   "id": "2fe1c421",
   "metadata": {
    "scrolled": false
   },
   "outputs": [],
   "source": [
    "# containers\n",
    "rows_file = []\n",
    "rows_inst = []\n",
    "\n",
    "# process all \n",
    "files = sorted(glob(path.join(PATH_IN, \"*.png\")))\n",
    "for f in files:\n",
    "    \n",
    "    # read as rgb image\n",
    "    mask_in = cv.imread(f, cv.IMREAD_COLOR) \n",
    "    mask_in = cv.cvtColor(mask_in, cv.COLOR_BGR2RGB)\n",
    "\n",
    "    # append file row\n",
    "    rows_file.append([path.basename(f), mask_in.shape[1], mask_in.shape[0]])\n",
    "    \n",
    "    # set as binary mask\n",
    "    gray = cv.cvtColor(mask_in, cv.COLOR_BGR2GRAY);\n",
    "    mask = cv.inRange(gray, 1, 255);\n",
    "\n",
    "    # detect contours and analyze\n",
    "    contours, _ = cv.findContours(mask, cv.RETR_TREE, cv.CHAIN_APPROX_SIMPLE);\n",
    "    instance = 0\n",
    "    for c in contours:\n",
    "        instance += 1\n",
    "\n",
    "        # area, arc length\n",
    "        area = np.int0(cv.contourArea(c))\n",
    "        arcl = cv.arcLength(c, True)\n",
    "\n",
    "        # rectangle (bbox)\n",
    "        x, y, w, h = cv.boundingRect(c)    \n",
    "        bbox_min, bbox_max = min(w, h), max(w, h)\n",
    "\n",
    "        # min area rotated rectangle (rbox)\n",
    "        # sloppy opencv definitions lead to slightly inconsistent results between boundingRect and minAreaRect\n",
    "        # https://stackoverflow.com/questions/69911364/whats-the-difference-in-results-of-cvboundingrect-and-cvminarearect\n",
    "        rect = cv.minAreaRect(c)\n",
    "        rbox = np.int0(cv.boxPoints(rect))\n",
    "        a, b = cv.norm(rbox[0], rbox[1]), cv.norm(rbox[1], rbox[2])\n",
    "        rbox_min, rbox_max = min(a, b), max(a, b)\n",
    "        \n",
    "        # append instance row\n",
    "        rows_inst.append([path.basename(f), instance, area, arcl, bbox_min, bbox_max, rbox_min, rbox_max])\n",
    "    \n",
    "    # exceptional case of no contour\n",
    "    if instance == 0:\n",
    "        rows_inst.append([path.basename(f), 0, None, None, None, None, None, None])\n",
    "\n",
    "# create dfs\n",
    "df_file = pd.DataFrame(rows_file, columns=[\n",
    "    'file', 'width', 'height'])\n",
    "df_inst = pd.DataFrame(rows_inst, columns=[\n",
    "    'file', 'inst', 'area', 'arc_len', 'bbox_min', 'bbox_max', 'rbox_min', 'rbox_max'])"
   ]
  },
  {
   "cell_type": "code",
   "execution_count": null,
   "id": "5291d971",
   "metadata": {},
   "outputs": [],
   "source": [
    "# view files\n",
    "#df_file"
   ]
  },
  {
   "cell_type": "code",
   "execution_count": null,
   "id": "078383c7",
   "metadata": {},
   "outputs": [],
   "source": [
    "# view instances\n",
    "#df_inst"
   ]
  },
  {
   "cell_type": "markdown",
   "id": "4a5bff1d",
   "metadata": {},
   "source": [
    "## Descriptive analysis"
   ]
  },
  {
   "cell_type": "markdown",
   "id": "4b38688f",
   "metadata": {},
   "source": [
    "### Feature description"
   ]
  },
  {
   "cell_type": "code",
   "execution_count": null,
   "id": "12f317d9",
   "metadata": {},
   "outputs": [],
   "source": [
    "# basic description\n",
    "df_file.describe()"
   ]
  },
  {
   "cell_type": "code",
   "execution_count": null,
   "id": "a4e5a10b",
   "metadata": {},
   "outputs": [],
   "source": [
    "# extension of instances data frame\n",
    "df_inst = df_file.join(df_inst.set_index('file'), on = 'file')\n",
    "\n",
    "# further area features\n",
    "area_sqrt = np.sqrt(df_inst['area'])\n",
    "df_inst.insert (5, 'area_sqrt', area_sqrt) # \n",
    "area_perc = df_inst['area'] / (df_inst['width'] * df_inst['height']) * 100\n",
    "df_inst.insert (6, 'area_perc', area_perc) # area percentage\n",
    "\n",
    "# further box features\n",
    "bbox_ratio = df_inst['bbox_max'] / df_inst['bbox_min']\n",
    "df_inst.insert (10, 'bbox_ratio', bbox_ratio) # bbox side ratio\n",
    "rbox_ratio = df_inst['rbox_max'] / df_inst['rbox_min']\n",
    "df_inst.insert (13, 'rbox_ratio', rbox_ratio) # rbox side ratio\n",
    "\n",
    "# remove file-related cols\n",
    "df_inst = df_inst.drop(columns = ['width', 'height'])\n",
    "\n",
    "# basic description\n",
    "df_inst.describe()"
   ]
  },
  {
   "cell_type": "markdown",
   "id": "2a544d08",
   "metadata": {
    "scrolled": true
   },
   "source": [
    "### Visual description"
   ]
  },
  {
   "cell_type": "code",
   "execution_count": null,
   "id": "fa372c4f",
   "metadata": {},
   "outputs": [],
   "source": [
    "# instances per image\n",
    "fig = px.histogram(df_inst, x=\"inst\", marginal=\"box\")\n",
    "fig.update_traces(xbins = dict(start=0.0, size=1.0), selector=dict(type='histogram'))\n",
    "fig.show()"
   ]
  },
  {
   "cell_type": "code",
   "execution_count": null,
   "id": "a67f543c",
   "metadata": {
    "scrolled": false
   },
   "outputs": [],
   "source": [
    "# instance area (percent)\n",
    "fig = px.histogram(df_inst, x=\"area_perc\", marginal=\"box\", hover_data=df_inst.columns)\n",
    "fig.update_traces(xbins = dict(start=0.0, size=0.1), selector=dict(type='histogram'))\n",
    "fig.show()"
   ]
  },
  {
   "cell_type": "code",
   "execution_count": null,
   "id": "f0ba9644",
   "metadata": {},
   "outputs": [],
   "source": [
    "albu.Flip(p=0.5),# instance arc length\n",
    "fig = px.histogram(df_inst, x=\"arc_len\", marginal=\"box\", hover_data=df_inst.columns)\n",
    "fig.update_traces(xbins = dict(start=0.0, size=10), selector=dict(type='histogram'))\n",
    "fig.show()"
   ]
  },
  {
   "cell_type": "code",
   "execution_count": null,
   "id": "d5ef7665",
   "metadata": {},
   "outputs": [],
   "source": [
    "df_bbr = pd.DataFrame(df_inst['bbox_ratio'].tolist(), columns=['ratio'])\n",
    "df_bbr['box'] = 'standard'\n",
    "df_rbr = pd.DataFrame(df_inst['rbox_ratio'].tolist(), columns=['ratio'])\n",
    "df_rbr['box'] = 'rotated'\n",
    "\n",
    "df_ratio = pd.concat([df_bbr, df_rbr])\n",
    "df_ratio = df_ratio.reset_index()\n",
    "\n",
    "# standard/rotated box ratios\n",
    "fig = px.histogram(df_ratio, x='ratio', color='box', marginal='box', hover_data=df_ratio.columns)\n",
    "fig.update_traces(xbins=dict(start=0.0, size=0.1), selector=dict(type = 'histogram'))\n",
    "fig.show()"
   ]
  },
  {
   "cell_type": "markdown",
   "id": "98c0296d",
   "metadata": {},
   "source": [
    "## Classification by property"
   ]
  },
  {
   "cell_type": "code",
   "execution_count": null,
   "id": "b2678cd0",
   "metadata": {
    "scrolled": false
   },
   "outputs": [],
   "source": [
    "df_img = df_inst[['file', 'area_perc']]\n",
    "df_img = df_img.groupby(['file'])['area_perc'].sum()\n",
    "df_img = pd.DataFrame(data={'file': df_img.index, 'area_perc': df_img.values})\n",
    "df_img"
   ]
  },
  {
   "cell_type": "code",
   "execution_count": null,
   "id": "105b4bcf",
   "metadata": {},
   "outputs": [],
   "source": [
    "# area of all instances in one image (percent)\n",
    "fig = px.histogram(df_img, x=\"area_perc\", marginal=\"box\", hover_data=df_img.columns)\n",
    "fig.update_traces(xbins = dict(start=0.0, size=0.1), selector=dict(type='histogram'))\n",
    "fig.show()"
   ]
  },
  {
   "cell_type": "code",
   "execution_count": null,
   "id": "3a493722",
   "metadata": {},
   "outputs": [],
   "source": [
    "# deciles\n",
    "dcs = df_img['area_perc'].quantile([0.0, 0.1, 0.2, 0.3, 0.4, 0.5, 0.6, 0.7, 0.8, 0.9, 1.0])\n",
    "dcs"
   ]
  },
  {
   "cell_type": "code",
   "execution_count": null,
   "id": "d213215d",
   "metadata": {},
   "outputs": [],
   "source": [
    "# classes based on deciles\n",
    "df_dcs = df_img.copy()\n",
    "df_dcs['class'] = None\n",
    "df_dcs.loc[(df_dcs['area_perc'] <= dcs[0.1]), 'class'] = '<=10'\n",
    "df_dcs.loc[(df_dcs['area_perc'] > dcs[0.1]) & (df_dcs['area_perc'] <= dcs[0.2]), 'class'] = '>10_20'\n",
    "df_dcs.loc[(df_dcs['area_perc'] > dcs[0.2]) & (df_dcs['area_perc'] <= dcs[0.3]), 'class'] = '>20_30'\n",
    "df_dcs.loc[(df_dcs['area_perc'] > dcs[0.3]) & (df_dcs['area_perc'] <= dcs[0.4]), 'class'] = '>30_40'\n",
    "df_dcs.loc[(df_dcs['area_perc'] > dcs[0.4]) & (df_dcs['area_perc'] <= dcs[0.5]), 'class'] = '>40_50'\n",
    "df_dcs.loc[(df_dcs['area_perc'] > dcs[0.5]) & (df_dcs['area_perc'] <= dcs[0.6]), 'class'] = '>50_60'\n",
    "df_dcs.loc[(df_dcs['area_perc'] > dcs[0.6]) & (df_dcs['area_perc'] <= dcs[0.7]), 'class'] = '>60_70'\n",
    "df_dcs.loc[(df_dcs['area_perc'] > dcs[0.7]) & (df_dcs['area_perc'] <= dcs[0.8]), 'class'] = '>70_80'\n",
    "df_dcs.loc[(df_dcs['area_perc'] > dcs[0.8]) & (df_dcs['area_perc'] <= dcs[0.9]), 'class'] = '>80_90'\n",
    "df_dcs.loc[(df_dcs['area_perc'] > dcs[0.9]), 'class'] = '>90'\n",
    "\n",
    "# write without \n",
    "df_dcs = df_dcs.drop(columns='area_perc')\n",
    "df_dcs.to_csv(path.join(PATH_OUT, 'classes_decile.csv'), index=False)\n",
    "\n",
    "# show\n",
    "df_dcs"
   ]
  },
  {
   "cell_type": "code",
   "execution_count": null,
   "id": "813095b8",
   "metadata": {},
   "outputs": [],
   "source": [
    "# quartiles\n",
    "qrs = df_img['area_perc'].describe()\n",
    "qrs"
   ]
  },
  {
   "cell_type": "code",
   "execution_count": null,
   "id": "830da7a8",
   "metadata": {},
   "outputs": [],
   "source": [
    "# classes based on quartiles\n",
    "df_qrs = df_img.copy()\n",
    "df_qrs['class'] = None\n",
    "df_qrs.loc[(df_qrs['area_perc'] <= qrs['25%']), 'class'] = '<=25'\n",
    "df_qrs.loc[(df_qrs['area_perc'] > qrs['25%']) & (df_qrs['area_perc'] <= qrs['50%']), 'class'] = '>25_50'\n",
    "df_qrs.loc[(df_qrs['area_perc'] > qrs['50%']) & (df_qrs['area_perc'] <= qrs['75%']), 'class'] = '>50_75'\n",
    "df_qrs.loc[(df_qrs['area_perc'] > qrs['75%']), 'class'] = '>75'\n",
    "\n",
    "# write without \n",
    "df_qrs = df_qrs.drop(columns='area_perc')\n",
    "df_qrs.to_csv(path.join(PATH_OUT, 'classes_quartile.csv'), index=False)\n",
    "\n",
    "# show\n",
    "df_qrs"
   ]
  }
 ],
 "metadata": {
  "kernelspec": {
   "display_name": "Python 3 (ipykernel)",
   "language": "python",
   "name": "python3"
  },
  "language_info": {
   "codemirror_mode": {
    "name": "ipython",
    "version": 3
   },
   "file_extension": ".py",
   "mimetype": "text/x-python",
   "name": "python",
   "nbconvert_exporter": "python",
   "pygments_lexer": "ipython3",
   "version": "3.10.5"
  }
 },
 "nbformat": 4,
 "nbformat_minor": 5
}
